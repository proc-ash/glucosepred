{
  "nbformat": 4,
  "nbformat_minor": 0,
  "metadata": {
    "colab": {
      "name": "rbl.ipynb",
      "provenance": [],
      "collapsed_sections": []
    },
    "kernelspec": {
      "name": "python3",
      "display_name": "Python 3"
    }
  },
  "cells": [
    {
      "cell_type": "code",
      "metadata": {
        "id": "FHkMEDHrHO53"
      },
      "source": [
        "!pip install -q chart_studio"
      ],
      "execution_count": null,
      "outputs": []
    },
    {
      "cell_type": "code",
      "metadata": {
        "id": "LTzgiZ8gIsEE"
      },
      "source": [
        "import numpy as np\n",
        "import pandas as pd\n",
        "import matplotlib.pyplot as plt\n",
        "import seaborn as sns\n",
        "from plotly import tools\n",
        "import chart_studio.plotly as py\n",
        "from plotly.offline import init_notebook_mode, iplot\n",
        "init_notebook_mode(connected=True)\n",
        "import plotly.graph_objs as go\n",
        "import plotly.figure_factory as ff\n",
        "from IPython.display import HTML, Image\n",
        "#reading dataset\n",
        "df = pd.read_csv('/content/drive/My Drive/diabetes.csv')\n",
        "#checking data head and info\n",
        "display(df.info(),df.head())\n",
        "#summary\n",
        "df.describe()\n"
      ],
      "execution_count": null,
      "outputs": []
    },
    {
      "cell_type": "code",
      "metadata": {
        "id": "RoZT2ywn2p6x"
      },
      "source": [
        "#univariate variable analysis\n",
        "#Helps us to flexibly plot a univariate distribution of observations.\n",
        "fig, ax = plt.subplots(4,2, figsize=(16,16))\n",
        "sns.distplot(df.Age, bins = 20, ax=ax[0,0]) \n",
        "sns.distplot(df.Glucose, bins = 20, ax=ax[0,1]) \n",
        "sns.distplot(df.BloodPressure, bins = 20, ax=ax[1,0]) \n",
        "sns.distplot(df.SkinThickness, bins = 20, ax=ax[1,1]) \n",
        "sns.distplot(df.Insulin, bins = 20, ax=ax[2,0])\n",
        "sns.distplot(df.DiabetesPedigreeFunction, bins = 20, ax=ax[2,1])\n",
        "sns.distplot(df.BMI, bins = 20, ax=ax[3,0]) \n",
        "sns.distplot(df.Outcome, bins = 20, ax=ax[3,1]) \n",
        "\n",
        "\n"
      ],
      "execution_count": null,
      "outputs": []
    },
    {
      "cell_type": "code",
      "metadata": {
        "id": "507T_qWd4k9O"
      },
      "source": [
        "#Data Preparation & Outlier Detection\n",
        "df.isnull().sum()\n"
      ],
      "execution_count": null,
      "outputs": []
    },
    {
      "cell_type": "code",
      "metadata": {
        "id": "AMAodZ9h4qSy"
      },
      "source": [
        "#there is no null values so we'll check for outliers/missing values\n",
        "columns = ['Glucose','BloodPressure','SkinThickness',\n",
        "       'Insulin','BMI', 'DiabetesPedigreeFunction','Age','Outcome']\n",
        "for col in columns:\n",
        "    sns.boxplot(x = df[col])\n",
        "    plt.show()\n",
        "#replacing missing values with their mean\n",
        "df['Glucose'].fillna(df['Glucose'].mean(), inplace = True)\n",
        "df['BloodPressure'].fillna(df['BloodPressure'].mean(), inplace = True)\n",
        "df['SkinThickness'].fillna(df['SkinThickness'].median(), inplace = True)\n",
        "df['Insulin'].fillna(df['Insulin'].median(), inplace = True)\n",
        "df['BMI'].fillna(df['BMI'].median(), inplace = True)\n",
        "df['DiabetesPedigreeFunction'].fillna(df['DiabetesPedigreeFunction'].median(), inplace = True)\n",
        "df['Age'].fillna(df['BMI'].median(), inplace = True)\n",
        "#checking for missing values again\n",
        "import missingno as msno\n",
        "p=msno.bar(df)\n",
        "#you can see that there is no missing value exist now"
      ],
      "execution_count": null,
      "outputs": []
    },
    {
      "cell_type": "code",
      "metadata": {
        "id": "LQC3oeP_7iy7"
      },
      "source": [
        "#data visualization\n",
        "f, ax = plt.subplots(1, 2, figsize = (15, 7))\n",
        "f.suptitle(\"Diabetes?\", fontsize = 18.)\n",
        "_ = df.Outcome.value_counts().plot.bar(ax = ax[0], rot = 0, color = (sns.color_palette()[0], sns.color_palette()[2])).set(xticklabels = [\"No\", \"Yes\"])\n",
        "_ = df.Outcome.value_counts().plot.pie(labels = (\"No\", \"Yes\"), autopct = \"%.2f%%\", label = \"\", fontsize = 13., ax = ax[1],\\\n",
        "colors = (sns.color_palette()[0], sns.color_palette()[2]), wedgeprops = {\"linewidth\": 1.5, \"edgecolor\": \"#F7F7F7\"}), ax[1].texts[1].set_color(\"#F7F7F7\"), ax[1].texts[3].set_color(\"#F7F7F7\")"
      ],
      "execution_count": null,
      "outputs": []
    },
    {
      "cell_type": "code",
      "metadata": {
        "id": "zG2ra45q74K6"
      },
      "source": [
        "#now after visualisation we can see the result before implementation of ml model\n",
        "#PAIR PLOTS\n",
        "#to see the correlation of variables with eah other\n",
        "sns.pairplot(data=df,hue='Outcome')\n",
        "#correlation between features\n",
        "#blocks with solid colour shows that those variables are highly corelated\n",
        "corr=df.corr()\n",
        "\n",
        "sns.set(font_scale=1.15)\n",
        "plt.figure(figsize=(14, 10))\n",
        "\n",
        "sns.heatmap(corr, vmax=.8, linewidths=0.01,\n",
        "            square=True,annot=True,cmap='YlGnBu',linecolor=\"black\")\n",
        "plt.title('Correlation between features');\n"
      ],
      "execution_count": null,
      "outputs": []
    },
    {
      "cell_type": "code",
      "metadata": {
        "id": "rNetknMh8zNK"
      },
      "source": [
        "#predictive modelling\n",
        "from sklearn.metrics import accuracy_score\n",
        "from sklearn.metrics import classification_report\n",
        "from sklearn.metrics import confusion_matrix\n",
        "from sklearn.model_selection import train_test_split\n",
        "from sklearn.linear_model import LogisticRegression\n",
        "#splitting dataset\n",
        "X = df.iloc[:, :-1]\n",
        "y = df.iloc[:, -1]\n",
        "\n",
        "\n",
        "X_train, X_test, y_train, y_test = train_test_split(X, y, test_size=0.25, random_state=0)\n",
        "\n",
        "print(\"X_train: \", len(X_train))\n",
        "print(\"X_test: \", len(X_test))\n",
        "print(\"y_train: \", len(y_train))\n",
        "print(\"y_test: \", len(y_test))\n",
        "#logistics regression\n",
        "LR = LogisticRegression()\n",
        "\n",
        "#fiting the model\n",
        "LR.fit(X_train, y_train)\n",
        "\n",
        "#prediction\n",
        "y_pred = LR.predict(X_test)\n",
        "\n",
        "#Accuracy\n",
        "print(\"Logistic Regression's Accuracy is\", LR.score(X_test, y_test)*100)\n"
      ],
      "execution_count": null,
      "outputs": []
    },
    {
      "cell_type": "code",
      "metadata": {
        "id": "Wpts-Ypm9-aO"
      },
      "source": [
        "#interpreting ml model\n",
        "coeff = list(LR.coef_[0])\n",
        "labels = list(X_train.columns)\n",
        "features = pd.DataFrame()\n",
        "features['Features'] = labels\n",
        "features['importance'] = coeff\n",
        "features.sort_values(by=['importance'], ascending=True, inplace=True)\n",
        "features['positive'] = features['importance'] > 0\n",
        "features.set_index('Features', inplace=True)\n",
        "features.importance.plot(kind='barh', figsize=(11, 6),color = features.positive.map({True: 'blue', False: 'red'}))\n",
        "plt.xlabel('Importance')\n"
      ],
      "execution_count": null,
      "outputs": []
    }
  ]
}